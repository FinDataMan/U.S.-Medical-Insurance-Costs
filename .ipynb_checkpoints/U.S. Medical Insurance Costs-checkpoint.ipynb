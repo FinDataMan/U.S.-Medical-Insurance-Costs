{
 "cells": [
  {
   "cell_type": "markdown",
   "id": "ea6e05e7-d998-44ec-866f-bf4df54d3f48",
   "metadata": {},
   "source": [
    "# U.S. Medical Insurance Costs"
   ]
  },
  {
   "cell_type": "markdown",
   "id": "581ff640-e936-4a54-9c6b-2f8f3ce69a82",
   "metadata": {
    "jp-MarkdownHeadingCollapsed": true
   },
   "source": [
    "## Project Goals"
   ]
  },
  {
   "cell_type": "markdown",
   "id": "7015cf21-1bdb-46f9-ab0f-5bf5b6e5ddfc",
   "metadata": {},
   "source": [
    "* Identify Key Factors: Determine how age, sex, BMI, number of children, smoking status, and region influence healthcare charges.\n",
    "  \n",
    "* Predictive Analysis: Build predictive models to estimate healthcare charges based on the provided fields.\n",
    "  \n",
    "* Health insights: Provide insights on how lifestyle choices (like smoking and BMI) impact healthcare costs.\n",
    "  \n",
    "* Targeted interventions: Develop recommendations for healtchare providers to design targete interventions that could lower charges based on demographic and behavorial patterns."
   ]
  },
  {
   "cell_type": "markdown",
   "id": "0edae1cd-c818-4616-8312-3a117973c1b4",
   "metadata": {
    "jp-MarkdownHeadingCollapsed": true
   },
   "source": [
    "## Data"
   ]
  },
  {
   "cell_type": "markdown",
   "id": "d4f20236-42ad-4548-b184-850770b6ccb7",
   "metadata": {},
   "source": [
    "### Fields"
   ]
  },
  {
   "cell_type": "markdown",
   "id": "91f8ad65-fe6b-4ac9-b38a-89780a5d5e6d",
   "metadata": {},
   "source": [
    "The fields included in the dataset are:\n",
    "\n",
    "* Age: Numerical value representing the age of the individual\n",
    "  \n",
    "* Sex: Categorical variable indicating male / female\n",
    "  \n",
    "* BMI (Body Mass Index): Numerical value indicating the body mass index\n",
    "  \n",
    "* Children: Number of children / dependents covered by health insurance\n",
    "  \n",
    "* Smoker: Categorical variable indicating whether the individual is a smoker or non-smoker\n",
    "  \n",
    "* Region: Ctegorical variable representing geographical area\n",
    "  \n",
    "* Charges: Numerical value representing medical charges"
   ]
  },
  {
   "cell_type": "code",
   "execution_count": 1857,
   "id": "709f90c0-be20-42aa-b645-94b8bfcd286d",
   "metadata": {
    "jupyter": {
     "source_hidden": true
    }
   },
   "outputs": [
    {
     "data": {
      "text/html": [
       "<div>\n",
       "<style scoped>\n",
       "    .dataframe tbody tr th:only-of-type {\n",
       "        vertical-align: middle;\n",
       "    }\n",
       "\n",
       "    .dataframe tbody tr th {\n",
       "        vertical-align: top;\n",
       "    }\n",
       "\n",
       "    .dataframe thead th {\n",
       "        text-align: right;\n",
       "    }\n",
       "</style>\n",
       "<table border=\"1\" class=\"dataframe\">\n",
       "  <thead>\n",
       "    <tr style=\"text-align: right;\">\n",
       "      <th></th>\n",
       "      <th>age</th>\n",
       "      <th>sex</th>\n",
       "      <th>bmi</th>\n",
       "      <th>children</th>\n",
       "      <th>smoker</th>\n",
       "      <th>region</th>\n",
       "      <th>charges</th>\n",
       "    </tr>\n",
       "  </thead>\n",
       "  <tbody>\n",
       "    <tr>\n",
       "      <th>0</th>\n",
       "      <td>19</td>\n",
       "      <td>female</td>\n",
       "      <td>27.900</td>\n",
       "      <td>0</td>\n",
       "      <td>yes</td>\n",
       "      <td>southwest</td>\n",
       "      <td>16884.92400</td>\n",
       "    </tr>\n",
       "    <tr>\n",
       "      <th>1</th>\n",
       "      <td>18</td>\n",
       "      <td>male</td>\n",
       "      <td>33.770</td>\n",
       "      <td>1</td>\n",
       "      <td>no</td>\n",
       "      <td>southeast</td>\n",
       "      <td>1725.55230</td>\n",
       "    </tr>\n",
       "    <tr>\n",
       "      <th>2</th>\n",
       "      <td>28</td>\n",
       "      <td>male</td>\n",
       "      <td>33.000</td>\n",
       "      <td>3</td>\n",
       "      <td>no</td>\n",
       "      <td>southeast</td>\n",
       "      <td>4449.46200</td>\n",
       "    </tr>\n",
       "    <tr>\n",
       "      <th>3</th>\n",
       "      <td>33</td>\n",
       "      <td>male</td>\n",
       "      <td>22.705</td>\n",
       "      <td>0</td>\n",
       "      <td>no</td>\n",
       "      <td>northwest</td>\n",
       "      <td>21984.47061</td>\n",
       "    </tr>\n",
       "    <tr>\n",
       "      <th>4</th>\n",
       "      <td>32</td>\n",
       "      <td>male</td>\n",
       "      <td>28.880</td>\n",
       "      <td>0</td>\n",
       "      <td>no</td>\n",
       "      <td>northwest</td>\n",
       "      <td>3866.85520</td>\n",
       "    </tr>\n",
       "  </tbody>\n",
       "</table>\n",
       "</div>"
      ],
      "text/plain": [
       "   age     sex     bmi  children smoker     region      charges\n",
       "0   19  female  27.900         0    yes  southwest  16884.92400\n",
       "1   18    male  33.770         1     no  southeast   1725.55230\n",
       "2   28    male  33.000         3     no  southeast   4449.46200\n",
       "3   33    male  22.705         0     no  northwest  21984.47061\n",
       "4   32    male  28.880         0     no  northwest   3866.85520"
      ]
     },
     "execution_count": 1857,
     "metadata": {},
     "output_type": "execute_result"
    }
   ],
   "source": [
    "import pandas as pd\n",
    "insurance_costs = pd.read_csv('insurance.csv')\n",
    "insurance_costs.head()"
   ]
  },
  {
   "cell_type": "markdown",
   "id": "6d7b0c94-996b-4f47-afa8-b3c2adf36470",
   "metadata": {},
   "source": [
    "### Data Types Adjustments"
   ]
  },
  {
   "cell_type": "code",
   "execution_count": 1859,
   "id": "0ac2700a-0be7-4f23-b416-9b3023baf49b",
   "metadata": {
    "jupyter": {
     "source_hidden": true
    }
   },
   "outputs": [],
   "source": [
    "insurance_costs['sex'] = pd.Categorical(insurance_costs['sex'], ['female', 'male'], ordered=True)\n",
    "insurance_costs['smoker'] = pd.Categorical(insurance_costs['smoker'], ['no', 'yes'], ordered=True)\n",
    "insurance_costs['region'] = pd.Categorical(insurance_costs['region'], ['southeast', 'southwest', 'northwest', 'northeast'], ordered=True)"
   ]
  },
  {
   "cell_type": "markdown",
   "id": "8c895e58-4964-491c-932f-a6fc2eef47ff",
   "metadata": {},
   "source": [
    "### Missing Data"
   ]
  },
  {
   "cell_type": "markdown",
   "id": "ef898114-3ec5-4dc7-b429-9bde525374d1",
   "metadata": {},
   "source": [
    "As shown in the output below, there is no noticeable missing data. All observations are complete:"
   ]
  },
  {
   "cell_type": "code",
   "execution_count": 1862,
   "id": "3162a6c4-08f5-47ba-b280-59c6e7a08c69",
   "metadata": {
    "jupyter": {
     "source_hidden": true
    }
   },
   "outputs": [
    {
     "name": "stdout",
     "output_type": "stream",
     "text": [
      "<class 'pandas.core.frame.DataFrame'>\n",
      "RangeIndex: 1338 entries, 0 to 1337\n",
      "Data columns (total 7 columns):\n",
      " #   Column    Non-Null Count  Dtype   \n",
      "---  ------    --------------  -----   \n",
      " 0   age       1338 non-null   int64   \n",
      " 1   sex       1338 non-null   category\n",
      " 2   bmi       1338 non-null   float64 \n",
      " 3   children  1338 non-null   int64   \n",
      " 4   smoker    1338 non-null   category\n",
      " 5   region    1338 non-null   category\n",
      " 6   charges   1338 non-null   float64 \n",
      "dtypes: category(3), float64(2), int64(2)\n",
      "memory usage: 46.3 KB\n"
     ]
    }
   ],
   "source": [
    "insurance_costs.info()"
   ]
  },
  {
   "cell_type": "markdown",
   "id": "56073eae-9e46-4e86-9e36-aee1ce21390b",
   "metadata": {},
   "source": [
    "### Descriptive Statistics"
   ]
  },
  {
   "cell_type": "markdown",
   "id": "2171ae40-45bd-44ac-9606-f758aa26b9b6",
   "metadata": {},
   "source": [
    "The provided descriptive statistics table summarizes the key characteristics of a medical insurance dataset. The analysis focuses on five variables: age, BMI, children, charges, and region."
   ]
  },
  {
   "cell_type": "code",
   "execution_count": 1865,
   "id": "a622d502-5af5-4111-a4fb-05f41f854ae5",
   "metadata": {
    "jupyter": {
     "source_hidden": true
    }
   },
   "outputs": [
    {
     "name": "stderr",
     "output_type": "stream",
     "text": [
      "C:\\Users\\artur\\anaconda3\\Lib\\site-packages\\IPython\\core\\displayhook.py:281: UserWarning: Output cache limit (currently 1000 entries) hit.\n",
      "Flushing oldest 200 entries.\n",
      "  warn('Output cache limit (currently {sz} entries) hit.\\n'\n"
     ]
    },
    {
     "data": {
      "text/html": [
       "<div>\n",
       "<style scoped>\n",
       "    .dataframe tbody tr th:only-of-type {\n",
       "        vertical-align: middle;\n",
       "    }\n",
       "\n",
       "    .dataframe tbody tr th {\n",
       "        vertical-align: top;\n",
       "    }\n",
       "\n",
       "    .dataframe thead th {\n",
       "        text-align: right;\n",
       "    }\n",
       "</style>\n",
       "<table border=\"1\" class=\"dataframe\">\n",
       "  <thead>\n",
       "    <tr style=\"text-align: right;\">\n",
       "      <th></th>\n",
       "      <th>age</th>\n",
       "      <th>bmi</th>\n",
       "      <th>children</th>\n",
       "      <th>charges</th>\n",
       "    </tr>\n",
       "  </thead>\n",
       "  <tbody>\n",
       "    <tr>\n",
       "      <th>count</th>\n",
       "      <td>1338.000000</td>\n",
       "      <td>1338.000000</td>\n",
       "      <td>1338.000000</td>\n",
       "      <td>1338.000000</td>\n",
       "    </tr>\n",
       "    <tr>\n",
       "      <th>mean</th>\n",
       "      <td>39.207025</td>\n",
       "      <td>30.663397</td>\n",
       "      <td>1.094918</td>\n",
       "      <td>13270.422265</td>\n",
       "    </tr>\n",
       "    <tr>\n",
       "      <th>std</th>\n",
       "      <td>14.049960</td>\n",
       "      <td>6.098187</td>\n",
       "      <td>1.205493</td>\n",
       "      <td>12110.011237</td>\n",
       "    </tr>\n",
       "    <tr>\n",
       "      <th>min</th>\n",
       "      <td>18.000000</td>\n",
       "      <td>15.960000</td>\n",
       "      <td>0.000000</td>\n",
       "      <td>1121.873900</td>\n",
       "    </tr>\n",
       "    <tr>\n",
       "      <th>25%</th>\n",
       "      <td>27.000000</td>\n",
       "      <td>26.296250</td>\n",
       "      <td>0.000000</td>\n",
       "      <td>4740.287150</td>\n",
       "    </tr>\n",
       "    <tr>\n",
       "      <th>50%</th>\n",
       "      <td>39.000000</td>\n",
       "      <td>30.400000</td>\n",
       "      <td>1.000000</td>\n",
       "      <td>9382.033000</td>\n",
       "    </tr>\n",
       "    <tr>\n",
       "      <th>75%</th>\n",
       "      <td>51.000000</td>\n",
       "      <td>34.693750</td>\n",
       "      <td>2.000000</td>\n",
       "      <td>16639.912515</td>\n",
       "    </tr>\n",
       "    <tr>\n",
       "      <th>max</th>\n",
       "      <td>64.000000</td>\n",
       "      <td>53.130000</td>\n",
       "      <td>5.000000</td>\n",
       "      <td>63770.428010</td>\n",
       "    </tr>\n",
       "  </tbody>\n",
       "</table>\n",
       "</div>"
      ],
      "text/plain": [
       "               age          bmi     children       charges\n",
       "count  1338.000000  1338.000000  1338.000000   1338.000000\n",
       "mean     39.207025    30.663397     1.094918  13270.422265\n",
       "std      14.049960     6.098187     1.205493  12110.011237\n",
       "min      18.000000    15.960000     0.000000   1121.873900\n",
       "25%      27.000000    26.296250     0.000000   4740.287150\n",
       "50%      39.000000    30.400000     1.000000   9382.033000\n",
       "75%      51.000000    34.693750     2.000000  16639.912515\n",
       "max      64.000000    53.130000     5.000000  63770.428010"
      ]
     },
     "execution_count": 1865,
     "metadata": {},
     "output_type": "execute_result"
    }
   ],
   "source": [
    "#Descriptive Statistics\n",
    "insurance_costs.describe()"
   ]
  },
  {
   "cell_type": "markdown",
   "id": "be0a590c-7eb6-41dc-8bb2-0b6e99572dc1",
   "metadata": {},
   "source": [
    "#### Age"
   ]
  },
  {
   "cell_type": "markdown",
   "id": "daa92260-5492-4e8f-9208-771537b9e910",
   "metadata": {},
   "source": [
    "* **Mean**: The average age is 39.2 years.\n",
    "\n",
    "* **Median**: The median age is 39 years, indicating that half of the individuals are below this age and the other half are above.\n",
    "\n",
    "* **Range**: The age range is from 18 to 64 years.\n",
    "\n",
    "* **Distribution**: The distribution seems relatively symmetrical, with a slight skew towards the older age group, as evidenced by the median being slightly lower than the mean."
   ]
  },
  {
   "cell_type": "markdown",
   "id": "27053426-505a-4b1f-9540-08b5f89dbbe4",
   "metadata": {},
   "source": [
    "#### BMI"
   ]
  },
  {
   "cell_type": "markdown",
   "id": "d44ca8bf-6e06-423f-97f7-4e5c08ed3d0a",
   "metadata": {},
   "source": [
    "* **Mean**: The average BMI is 30.66, which falls into the overweight category (BMI of 25-29.9) and is close to the obese category (BMI of 30 or higher).\n",
    "\n",
    "* **Median**: The median BMI is 30.4, further supporting the prevalence of overweight and obese individuals in the dataset.\n",
    "\n",
    "* **Range**: The BMI range is from 15.96 to 53.13, indicating a wide variation in body mass indices.\n",
    "\n",
    "* **Distribution**: The distribution appears to be slightly skewed to the right, suggesting a concentration of individuals with higher BMI values."
   ]
  },
  {
   "cell_type": "markdown",
   "id": "8ab51e5b-0748-4dac-922f-9a2d60e9d9c3",
   "metadata": {},
   "source": [
    "#### Children"
   ]
  },
  {
   "cell_type": "markdown",
   "id": "0f1d4719-d8c2-4e6e-9411-df45759652d9",
   "metadata": {},
   "source": [
    "* **Mean**: The average number of children is 1.09.\n",
    "\n",
    "* **Median**: The median number of children is 1, indicating that most individuals have one child or fewer.\n",
    "\n",
    "* **Range**: The number of children ranges from 0 to 5.\n",
    "\n",
    "* **Distribution**: The distribution is likely skewed to the right, with a concentration of individuals with fewer children."
   ]
  },
  {
   "cell_type": "markdown",
   "id": "511aa0fb-e129-4dc7-bc4b-f8709b195545",
   "metadata": {},
   "source": [
    "#### Charges"
   ]
  },
  {
   "cell_type": "markdown",
   "id": "1991fc54-f655-4216-99ad-d9682b0f34b5",
   "metadata": {},
   "source": [
    "* **Mean**: The average medical charges are \\$13,270.42.\n",
    "\n",
    "* **Median**: The median charges are \\$9,382.03, suggesting a significant difference between the mean and median, indicating a skewed distribution.\n",
    "\n",
    "* **Range**: The charges range from $1,121.87  $63,770.43, highlighting a wide variation in medical costs.\n",
    "\n",
    "\n",
    "* **Distribution**: The distribution is heavily skewed to the right, indicating a concentration of individuals with lower charges and a few individuals with extremely high charges."
   ]
  },
  {
   "cell_type": "markdown",
   "id": "aaec8fed-fce7-4a8c-832b-525ececd92db",
   "metadata": {},
   "source": [
    "#### Sex"
   ]
  },
  {
   "cell_type": "markdown",
   "id": "d80a608c-363b-4f0a-bda9-35c18e0e784f",
   "metadata": {},
   "source": [
    "* **Frequency**: The number of individuals belonging to each sex category is:\n",
    "    * Male: 676 individuals\n",
    "    * Female: 662 individuals\n",
    "* **Proportion**: The proportion of each sex category relative to the total number of individuals is:\n",
    "    * Male: 0.505232 (approximately 50.5%)\n",
    "    * Female: 0.494768 (approximately 49.5%)\n",
    "* **Gender Balance**: The dataset exhibits a relatively balanced distribution of males and females, with approximately equal proportions of each sex.\n",
    "\n",
    "* **Slight Male Predominance**: While the difference is minimal, there is a slightly higher proportion of males compared to females in the dataset."
   ]
  },
  {
   "cell_type": "code",
   "execution_count": 1876,
   "id": "2f90b459-5686-475c-89af-de1155cd6ae4",
   "metadata": {
    "jupyter": {
     "source_hidden": true
    }
   },
   "outputs": [
    {
     "data": {
      "text/html": [
       "<div>\n",
       "<style scoped>\n",
       "    .dataframe tbody tr th:only-of-type {\n",
       "        vertical-align: middle;\n",
       "    }\n",
       "\n",
       "    .dataframe tbody tr th {\n",
       "        vertical-align: top;\n",
       "    }\n",
       "\n",
       "    .dataframe thead th {\n",
       "        text-align: right;\n",
       "    }\n",
       "</style>\n",
       "<table border=\"1\" class=\"dataframe\">\n",
       "  <thead>\n",
       "    <tr style=\"text-align: right;\">\n",
       "      <th></th>\n",
       "      <th>sex</th>\n",
       "      <th>frequency</th>\n",
       "      <th>proportion</th>\n",
       "    </tr>\n",
       "  </thead>\n",
       "  <tbody>\n",
       "    <tr>\n",
       "      <th>0</th>\n",
       "      <td>male</td>\n",
       "      <td>676</td>\n",
       "      <td>0.505232</td>\n",
       "    </tr>\n",
       "    <tr>\n",
       "      <th>1</th>\n",
       "      <td>female</td>\n",
       "      <td>662</td>\n",
       "      <td>0.494768</td>\n",
       "    </tr>\n",
       "  </tbody>\n",
       "</table>\n",
       "</div>"
      ],
      "text/plain": [
       "      sex  frequency  proportion\n",
       "0    male        676    0.505232\n",
       "1  female        662    0.494768"
      ]
     },
     "execution_count": 1876,
     "metadata": {},
     "output_type": "execute_result"
    }
   ],
   "source": [
    "pd.DataFrame({\n",
    "    'sex': insurance_costs.sex.value_counts().index,\n",
    "    'frequency': insurance_costs.sex.value_counts().values,\n",
    "    'proportion': insurance_costs.sex.value_counts(normalize=True).values\n",
    "})"
   ]
  },
  {
   "cell_type": "markdown",
   "id": "ac18a074-50e8-4cba-9660-34791473cab8",
   "metadata": {},
   "source": [
    "#### Smoker"
   ]
  },
  {
   "cell_type": "markdown",
   "id": "8a3e3141-49cd-4cfe-ad89-c8b08209862a",
   "metadata": {},
   "source": [
    "* **Frequency**: The number of individuals in each smoking category is:\n",
    "    * Non-Smoker: 1064 individuals\n",
    "    * Smoker: 274 individuals\n",
    "* **Proportion**: The proportion of each smoking category relative to the total number of individuals is:\n",
    "    * Non-Smoker: 0.795217 (approximately 79.5%)\n",
    "    * Smoker: 0.204783 (approximately 20.5%)\n",
    "\n",
    "* **Prevalence of Non-Smokers**: A majority of individuals in the dataset are non-smokers, constituting approximately 79.5% of the sample.\n",
    "* **Minority of Smokers**: A smaller proportion of individuals are smokers, representing around 20.5% of the total."
   ]
  },
  {
   "cell_type": "code",
   "execution_count": 1879,
   "id": "84b3ed68-7ff2-40da-8c2d-a98299f24665",
   "metadata": {
    "jupyter": {
     "source_hidden": true
    }
   },
   "outputs": [
    {
     "data": {
      "text/html": [
       "<div>\n",
       "<style scoped>\n",
       "    .dataframe tbody tr th:only-of-type {\n",
       "        vertical-align: middle;\n",
       "    }\n",
       "\n",
       "    .dataframe tbody tr th {\n",
       "        vertical-align: top;\n",
       "    }\n",
       "\n",
       "    .dataframe thead th {\n",
       "        text-align: right;\n",
       "    }\n",
       "</style>\n",
       "<table border=\"1\" class=\"dataframe\">\n",
       "  <thead>\n",
       "    <tr style=\"text-align: right;\">\n",
       "      <th></th>\n",
       "      <th>smoker</th>\n",
       "      <th>frequency</th>\n",
       "      <th>proportion</th>\n",
       "    </tr>\n",
       "  </thead>\n",
       "  <tbody>\n",
       "    <tr>\n",
       "      <th>0</th>\n",
       "      <td>no</td>\n",
       "      <td>1064</td>\n",
       "      <td>0.795217</td>\n",
       "    </tr>\n",
       "    <tr>\n",
       "      <th>1</th>\n",
       "      <td>yes</td>\n",
       "      <td>274</td>\n",
       "      <td>0.204783</td>\n",
       "    </tr>\n",
       "  </tbody>\n",
       "</table>\n",
       "</div>"
      ],
      "text/plain": [
       "  smoker  frequency  proportion\n",
       "0     no       1064    0.795217\n",
       "1    yes        274    0.204783"
      ]
     },
     "execution_count": 1879,
     "metadata": {},
     "output_type": "execute_result"
    }
   ],
   "source": [
    "pd.DataFrame({\n",
    "    'smoker': insurance_costs.smoker.value_counts().index,\n",
    "    'frequency': insurance_costs.smoker.value_counts().values,\n",
    "    'proportion': insurance_costs.smoker.value_counts(normalize=True).values\n",
    "})"
   ]
  },
  {
   "cell_type": "markdown",
   "id": "08291e20-28f6-4af2-99dd-ee1e91777eb0",
   "metadata": {},
   "source": [
    "#### Region"
   ]
  },
  {
   "cell_type": "markdown",
   "id": "bd90e2c5-061d-4948-a610-6093208c5514",
   "metadata": {},
   "source": [
    "* **Frequency**: The number of individuals in each region is:\n",
    "    * Southeast: 364 individuals\n",
    "    * Southwest: 325 individuals\n",
    "    * Northwest: 325 individuals\n",
    "    * Northeast: 324 individuals\n",
    "\n",
    "* **Proportion**: The table also provides the proportion of each region relative to the total number of individuals:\n",
    "    * Southeast: 0.272048 (approximately 27.2%)\n",
    "    * Southwest: 0.242900 (approximately 24.3%)\n",
    "    * Northwest: 0.242900 (approximately 24.3%)\n",
    "    * Northeast: 0.242152 (approximately 24.2%)\n",
    "\n",
    "* **Regional Distribution**: The dataset is relatively balanced across the four regions, with no single region dominating.\n",
    "* **Southeast Dominance**: While the differences are minimal, the Southeast region has a slightly higher proportion of individuals compared to the other three regions."
   ]
  },
  {
   "cell_type": "code",
   "execution_count": 1882,
   "id": "f48451f4-7fa7-427b-aabb-ee09839b9e13",
   "metadata": {
    "jupyter": {
     "source_hidden": true
    }
   },
   "outputs": [
    {
     "data": {
      "text/html": [
       "<div>\n",
       "<style scoped>\n",
       "    .dataframe tbody tr th:only-of-type {\n",
       "        vertical-align: middle;\n",
       "    }\n",
       "\n",
       "    .dataframe tbody tr th {\n",
       "        vertical-align: top;\n",
       "    }\n",
       "\n",
       "    .dataframe thead th {\n",
       "        text-align: right;\n",
       "    }\n",
       "</style>\n",
       "<table border=\"1\" class=\"dataframe\">\n",
       "  <thead>\n",
       "    <tr style=\"text-align: right;\">\n",
       "      <th></th>\n",
       "      <th>region</th>\n",
       "      <th>frequency</th>\n",
       "      <th>proportion</th>\n",
       "    </tr>\n",
       "  </thead>\n",
       "  <tbody>\n",
       "    <tr>\n",
       "      <th>0</th>\n",
       "      <td>southeast</td>\n",
       "      <td>364</td>\n",
       "      <td>0.272048</td>\n",
       "    </tr>\n",
       "    <tr>\n",
       "      <th>1</th>\n",
       "      <td>southwest</td>\n",
       "      <td>325</td>\n",
       "      <td>0.242900</td>\n",
       "    </tr>\n",
       "    <tr>\n",
       "      <th>2</th>\n",
       "      <td>northwest</td>\n",
       "      <td>325</td>\n",
       "      <td>0.242900</td>\n",
       "    </tr>\n",
       "    <tr>\n",
       "      <th>3</th>\n",
       "      <td>northeast</td>\n",
       "      <td>324</td>\n",
       "      <td>0.242152</td>\n",
       "    </tr>\n",
       "  </tbody>\n",
       "</table>\n",
       "</div>"
      ],
      "text/plain": [
       "      region  frequency  proportion\n",
       "0  southeast        364    0.272048\n",
       "1  southwest        325    0.242900\n",
       "2  northwest        325    0.242900\n",
       "3  northeast        324    0.242152"
      ]
     },
     "execution_count": 1882,
     "metadata": {},
     "output_type": "execute_result"
    }
   ],
   "source": [
    "pd.DataFrame({\n",
    "    'region': insurance_costs.region.value_counts().index,\n",
    "    'frequency': insurance_costs.region.value_counts().values,\n",
    "    'proportion': insurance_costs.region.value_counts(normalize=True).values\n",
    "})"
   ]
  },
  {
   "cell_type": "markdown",
   "id": "cefe9bce-6462-49df-8ddb-dfbddf7090bc",
   "metadata": {
    "jp-MarkdownHeadingCollapsed": true
   },
   "source": [
    "## Analysis"
   ]
  },
  {
   "cell_type": "markdown",
   "id": "48b92678-d366-49c3-8277-baeb9ff0d935",
   "metadata": {
    "jp-MarkdownHeadingCollapsed": true
   },
   "source": [
    "### BMI Distribution by Region"
   ]
  },
  {
   "cell_type": "markdown",
   "id": "09510c62-4b3c-4d8f-9757-cb508a965096",
   "metadata": {},
   "source": [
    "The provided boxplot visually compares the distribution of BMI across different regions: southeast, southwest, northwest, and northeast."
   ]
  },
  {
   "cell_type": "markdown",
   "id": "9ff1b9ff-46e7-45e0-a8ab-9db0d7a89a0a",
   "metadata": {},
   "source": [
    "#### Key Findings"
   ]
  },
  {
   "cell_type": "markdown",
   "id": "9d121953-72bb-4735-ad13-3e50fd5d820d",
   "metadata": {},
   "source": [
    "* **Median BMI**: The median BMI is similar across all regions, falling within the range of 30-35. This suggests that the average BMI levels are comparable among the regions.\n",
    "\n",
    "* **Interquartile Range (IQR)**: The IQR, represented by the box width, is also relatively consistent across the regions, indicating a similar spread of BMI values within each region.\n",
    "\n",
    "* **Outliers**: A few outliers are observed in the southwest and northeast regions, suggesting that there are individuals in these regions with significantly higher BMIs compared to the majority.\n",
    "\n",
    "* **Regional Variations**: While the central tendencies and spreads of BMI are similar, there are slight variations in the distribution of BMI across regions:\n",
    "    * The southwest region has the highest maximum BMI value, indicating the presence of individuals with very high BMIs.\n",
    "    * The southeast region has the lowest minimum BMI value, suggesting the presence of individuals with lower BMIs compared to the other regions."
   ]
  },
  {
   "cell_type": "markdown",
   "id": "55611f0a-2b1c-4d26-ad6d-407440dce72b",
   "metadata": {},
   "source": [
    "#### Interpretation"
   ]
  },
  {
   "cell_type": "markdown",
   "id": "fa450350-d529-46f5-b08b-21b46ac1e639",
   "metadata": {},
   "source": [
    "* **Overall BMI Levels**: The boxplot indicates that the overall BMI levels are relatively high across all regions, with a majority of individuals falling within the overweight or obese categories.\n",
    "Regional Differences: While the central tendencies are similar, there are minor regional variations in the distribution of BMI. The southwest region has a slightly higher proportion of individuals with very high BMIs, while the southeast region has a slightly higher proportion of individuals with lower BMIs."
   ]
  },
  {
   "cell_type": "code",
   "execution_count": 1890,
   "id": "03cfcfc3-3458-4fda-9fd4-cadfed13dcea",
   "metadata": {
    "jupyter": {
     "source_hidden": true
    }
   },
   "outputs": [
    {
     "data": {
      "image/png": "[encoded data removed]",
      "text/plain": [
       "<Figure size 640x480 with 1 Axes>"
      ]
     },
     "metadata": {},
     "output_type": "display_data"
    }
   ],
   "source": [
    "sns.boxplot(x='region', y='bmi', hue='region', data=insurance_costs, palette='Accent')\n",
    "plt.title('BMI Distribution by Region')\n",
    "plt.show()"
   ]
  },
  {
   "cell_type": "markdown",
   "id": "1c3ff738-455b-4f4c-9b20-eb4c8e1f5245",
   "metadata": {
    "jp-MarkdownHeadingCollapsed": true
   },
   "source": [
    "### Age Distribution by Region"
   ]
  },
  {
   "cell_type": "markdown",
   "id": "6f824d3d-bfae-4fc7-a94c-ca5eb7ece5d7",
   "metadata": {},
   "source": [
    "The provided boxplot visually compares the distribution of age across four regions: southeast, southwest, northwest, and northeast."
   ]
  },
  {
   "cell_type": "markdown",
   "id": "9eb23b28-9e5a-4793-8d3c-607d07eca011",
   "metadata": {},
   "source": [
    "#### Key Findings"
   ]
  },
  {
   "cell_type": "markdown",
   "id": "016f809c-458a-4c52-a940-f790fab48871",
   "metadata": {},
   "source": [
    "* **Median Age**: The median age is similar across all regions, falling around the value of 39. This suggests that the average age levels are comparable among the regions.\n",
    "\n",
    "* **Interquartile Range (IQR)**: The IQR, represented by the box width, is also relatively consistent across the regions, indicating a similar spread of age values within each region.\n",
    "\n",
    "* **Outliers**: A few outliers are observed in the southwest and northeast regions, suggesting that there are individuals in these regions with significantly higher ages compared to the majority.\n",
    "\n",
    "* **Regional Variations**: While the central tendencies and spreads of age are similar, there are slight variations in the distribution of age across regions:\n",
    "    * The southwest region has the highest maximum age value, indicating the presence of individuals with very high ages.\n",
    "    * The southeast region has the lowest minimum age value, suggesting the presence of individuals with lower ages compared to the other regions."
   ]
  },
  {
   "cell_type": "markdown",
   "id": "b7347aa3-6702-4d65-b750-3a8d6cf26bad",
   "metadata": {},
   "source": [
    "#### Interpretation"
   ]
  },
  {
   "cell_type": "markdown",
   "id": "23bb159e-7bfa-4cb1-9f38-b41420154519",
   "metadata": {},
   "source": [
    "* **Overall Age Levels**: The boxplot indicates that the overall age levels are relatively similar across all regions, with a majority of individuals falling within the same age range.\n",
    "\n",
    "* **Regional Differences**: While the central tendencies are similar, there are minor regional differences in the distribution of age. The southwest region has a slightly higher proportion of individuals with very high ages, while the southeast region has a slightly higher proportion of individuals with lower ages."
   ]
  },
  {
   "cell_type": "code",
   "execution_count": 1897,
   "id": "e5001e0e-6443-45c1-885b-0cdabb5ec19f",
   "metadata": {
    "jupyter": {
     "source_hidden": true
    }
   },
   "outputs": [
    {
     "data": {
      "image/png": "[encoded data removed]",
      "text/plain": [
       "<Figure size 640x480 with 1 Axes>"
      ]
     },
     "metadata": {},
     "output_type": "display_data"
    }
   ],
   "source": [
    "sns.boxplot(x='region', y='age', hue='region', data=insurance_costs, palette='Accent')\n",
    "plt.title('Age Distribution by Region')\n",
    "plt.show()"
   ]
  },
  {
   "cell_type": "markdown",
   "id": "b890c379-6b99-4d8e-bf7a-6c3e0a38344f",
   "metadata": {
    "jp-MarkdownHeadingCollapsed": true
   },
   "source": [
    "### Smokers Distribution by Region"
   ]
  },
  {
   "cell_type": "markdown",
   "id": "24547455-ab51-4fbe-b531-0429bd2f5f72",
   "metadata": {},
   "source": [
    "The provided bar plot visually compares the proportion of smokers and non-smokers across four regions: southeast, southwest, northwest, and northeast.\n",
    "\n",
    "The provided table summarizes the distribution of the \"smoker\" variable across four regions: southeast, southwest, northwest, and northeast. The table includes counts of smokers and non-smokers, as well as their corresponding proportions."
   ]
  },
  {
   "cell_type": "markdown",
   "id": "686259fe-9e1b-4986-b7ad-527d1c1c4554",
   "metadata": {
    "jp-MarkdownHeadingCollapsed": true
   },
   "source": [
    "#### Key Findings"
   ]
  },
  {
   "cell_type": "markdown",
   "id": "d19b158b-5f10-47d7-b488-865499a1f122",
   "metadata": {},
   "source": [
    "* **Non-Smokers**:\n",
    "    * **Southeast**: The southeast region has the highest proportion of non-smokers, with 75% (273 individuals) being non-smokers.\n",
    "    * **Southwest and Northwest**: Both the southwest and northwest regions have similar proportions of non-smokers, with 82.15% (267 individuals) being non-smokers in each region.\n",
    "    * **Northeast**: The northeast region has a slightly lower proportion of non-smokers, with 79.32% (257 individuals) being non-smokers.\n",
    "\n",
    "* **Smokers**:\n",
    "    * **Southeast**: The southeast region has the lowest proportion of smokers, with 25% (91 individuals) being smokers.\n",
    "    * **Southwest and Northwest**: The southwest and northwest regions have similar proportions of smokers, with 17.85% (58 individuals) being smokers in each region.\n",
    "    * **Northeast**: The northeast region has a slightly higher proportion of smokers, with 20.68% (67 individuals) being smokers."
   ]
  },
  {
   "cell_type": "markdown",
   "id": "6cc6fa4e-868f-4a49-b466-91e5462b85e8",
   "metadata": {},
   "source": [
    "#### Interpretation"
   ]
  },
  {
   "cell_type": "markdown",
   "id": "bb75d706-8e14-4505-9abb-8ee5c05d2936",
   "metadata": {},
   "source": [
    " * **Regional Variations**: There are noticeable differences in the distribution of smokers across the regions:\n",
    "    * The southeast region has a significantly higher proportion of non-smokers compared to the other regions.\n",
    "    * The southwest and northwest regions have similar proportions of smokers and non-smokers.\n",
    "    * The northeast region has a slightly higher proportion of smokers compared to the southeast region.\n",
    "* **Overall Trends**: Despite the regional variations, the majority of individuals across all regions are non-smokers."
   ]
  },
  {
   "cell_type": "code",
   "execution_count": 1904,
   "id": "6b8dab0c-14e6-41ba-942f-32abad429c24",
   "metadata": {
    "jupyter": {
     "source_hidden": true
    }
   },
   "outputs": [
    {
     "data": {
      "text/html": [
       "<div>\n",
       "<style scoped>\n",
       "    .dataframe tbody tr th:only-of-type {\n",
       "        vertical-align: middle;\n",
       "    }\n",
       "\n",
       "    .dataframe tbody tr th {\n",
       "        vertical-align: top;\n",
       "    }\n",
       "\n",
       "    .dataframe thead th {\n",
       "        text-align: right;\n",
       "    }\n",
       "</style>\n",
       "<table border=\"1\" class=\"dataframe\">\n",
       "  <thead>\n",
       "    <tr style=\"text-align: right;\">\n",
       "      <th></th>\n",
       "      <th>count_no</th>\n",
       "      <th>count_yes</th>\n",
       "      <th>proportion_no</th>\n",
       "      <th>proportion_yes</th>\n",
       "    </tr>\n",
       "    <tr>\n",
       "      <th>region</th>\n",
       "      <th></th>\n",
       "      <th></th>\n",
       "      <th></th>\n",
       "      <th></th>\n",
       "    </tr>\n",
       "  </thead>\n",
       "  <tbody>\n",
       "    <tr>\n",
       "      <th>southeast</th>\n",
       "      <td>273</td>\n",
       "      <td>91</td>\n",
       "      <td>0.750000</td>\n",
       "      <td>0.250000</td>\n",
       "    </tr>\n",
       "    <tr>\n",
       "      <th>southwest</th>\n",
       "      <td>267</td>\n",
       "      <td>58</td>\n",
       "      <td>0.821538</td>\n",
       "      <td>0.178462</td>\n",
       "    </tr>\n",
       "    <tr>\n",
       "      <th>northwest</th>\n",
       "      <td>267</td>\n",
       "      <td>58</td>\n",
       "      <td>0.821538</td>\n",
       "      <td>0.178462</td>\n",
       "    </tr>\n",
       "    <tr>\n",
       "      <th>northeast</th>\n",
       "      <td>257</td>\n",
       "      <td>67</td>\n",
       "      <td>0.793210</td>\n",
       "      <td>0.206790</td>\n",
       "    </tr>\n",
       "  </tbody>\n",
       "</table>\n",
       "</div>"
      ],
      "text/plain": [
       "           count_no  count_yes  proportion_no  proportion_yes\n",
       "region                                                       \n",
       "southeast       273         91       0.750000        0.250000\n",
       "southwest       267         58       0.821538        0.178462\n",
       "northwest       267         58       0.821538        0.178462\n",
       "northeast       257         67       0.793210        0.206790"
      ]
     },
     "execution_count": 1904,
     "metadata": {},
     "output_type": "execute_result"
    }
   ],
   "source": [
    "combined_smoker_data = pd.concat([pd.crosstab(index=insurance_costs['region'], columns=insurance_costs['smoker'], margins=False), pd.crosstab(index=insurance_costs['region'], columns=insurance_costs['smoker'], normalize='index')], axis=1)\n",
    "combined_smoker_data.columns = ['count_no', 'count_yes', 'proportion_no', 'proportion_yes']\n",
    "combined_smoker_data"
   ]
  },
  {
   "cell_type": "code",
   "execution_count": 1905,
   "id": "45a2edac-9b12-4121-a9fa-2a36a9b39461",
   "metadata": {
    "jupyter": {
     "source_hidden": true
    }
   },
   "outputs": [
    {
     "data": {
      "image/png": "[encoded data removed]",
      "text/plain": [
       "<Figure size 640x480 with 1 Axes>"
      ]
     },
     "metadata": {},
     "output_type": "display_data"
    }
   ],
   "source": [
    "sns.countplot(x='smoker', hue='region', data=insurance_costs, palette='Accent')\n",
    "plt.title('Smokers Distribution by Region')\n",
    "plt.show()"
   ]
  },
  {
   "cell_type": "markdown",
   "id": "4cea9602-013f-4e17-a2d7-07d52b345276",
   "metadata": {
    "jp-MarkdownHeadingCollapsed": true
   },
   "source": [
    "### Correlation Analysis"
   ]
  },
  {
   "cell_type": "markdown",
   "id": "83e52276-40f2-4719-9618-23bca151e57b",
   "metadata": {},
   "source": [
    "The provided correlation heatmap visualizes the relationships between different variables in a medical insurance dataset. Each square in the heatmap represents the correlation coefficient between two variables, ranging from -1 to 1. A value of 1 indicates a perfect positive correlation, -1 indicates a perfect negative correlation, and 0 indicates no correlation.   "
   ]
  },
  {
   "cell_type": "markdown",
   "id": "94abafe9-21d0-45cb-87f8-5a4221fbce2d",
   "metadata": {},
   "source": [
    "#### Key Findings"
   ]
  },
  {
   "cell_type": "markdown",
   "id": "4647ab85-56f6-4855-965a-dc7def6d7deb",
   "metadata": {},
   "source": [
    "Strong Positive Correlation with Charges:\n",
    "* **Smoker**: The strongest positive correlation is between \"charges\" and \"smoker,\" with a coefficient of 0.79. This suggests that smokers tend to have significantly higher insurance charges.\n",
    "\n",
    "* **Age**: There is a moderate positive correlation between \"charges\" and \"age,\" indicating that older individuals generally have higher charges.\n",
    "\n",
    "* **BMI**: A weak positive correlation exists between \"charges\" and \"BMI,\" suggesting a slight tendency for individuals with higher BMIs to have higher charges.\n",
    "\n",
    "Weak or No Correlation:\n",
    "* Sex, Children, and Region: The variables \"sex,\" \"children,\" and \"region\" show weak or no correlation with \"charges,\" suggesting that these factors have a minimal impact on insurance costs."
   ]
  },
  {
   "cell_type": "markdown",
   "id": "8b253978-c25c-462e-9438-2fbc06b53bfc",
   "metadata": {},
   "source": [
    "#### Interpretation"
   ]
  },
  {
   "cell_type": "markdown",
   "id": "40d0abe4-b7fa-4304-bc4f-62f6ff1d0a1e",
   "metadata": {},
   "source": [
    "* **Smoking as a Major Factor**: The strong positive correlation between smoking and charges highlights smoking as a primary driver of insurance costs.\n",
    "  \n",
    "* **Age and BMI as Secondary Factors**: While age and BMI are also correlated with charges, their effects are less pronounced than smoking.\n",
    "  \n",
    "* **Limited Impact of Sex, Children, and Region**: The lack of significant correlation between these variables and charges suggests that they play a minor role in determining insurance costs."
   ]
  },
  {
   "cell_type": "code",
   "execution_count": 1912,
   "id": "e26ef5b2-8625-4413-877b-316c9541c6c8",
   "metadata": {
    "jupyter": {
     "source_hidden": true
    }
   },
   "outputs": [
    {
     "data": {
      "image/png": "[encoded data removed]",
      "text/plain": [
       "<Figure size 640x480 with 2 Axes>"
      ]
     },
     "metadata": {},
     "output_type": "display_data"
    }
   ],
   "source": [
    "import numpy as np\n",
    "import seaborn as sns\n",
    "import matplotlib.pyplot as plt\n",
    "\n",
    "# Make a copy of the original DataFrame\n",
    "insurance_costs_copy = insurance_costs.copy()\n",
    "\n",
    "# Convert categorical variables to numeric in the copied DataFrame\n",
    "insurance_costs_copy['sex'] = insurance_costs_copy['sex'].map({'female': 0, 'male': 1})\n",
    "insurance_costs_copy['smoker'] = insurance_costs_copy['smoker'].map({'no': 0, 'yes': 1})\n",
    "insurance_costs_copy['region'] = insurance_costs_copy['region'].map({'southeast': 0, 'southwest': 1, 'northwest': 2, 'northeast': 3})\n",
    "\n",
    "# Define the colormap for the heatmap\n",
    "colors = sns.diverging_palette(150, 275, s=80, l=55, n=9, as_cmap=True)\n",
    "\n",
    "# Create a heatmap using the .corr method on the copied DataFrame\n",
    "sns.heatmap(insurance_costs_copy.corr(), center=0, cmap=colors, robust=True, annot=True)\n",
    "\n",
    "# Show the plot\n",
    "plt.title(\"Correlation Heatmap for Insurance Costs Dataset\")\n",
    "plt.tight_layout()\n",
    "plt.show()"
   ]
  },
  {
   "cell_type": "markdown",
   "id": "ab4c7c79-5668-4af4-a25d-6757abf55361",
   "metadata": {
    "jp-MarkdownHeadingCollapsed": true
   },
   "source": [
    "### Model Building"
   ]
  },
  {
   "cell_type": "markdown",
   "id": "31c1e69e-fa2c-40aa-8753-c4e06f5cb3d8",
   "metadata": {},
   "source": [
    "This model analyze the factors affecting healthcare charges in our dataset. OLS regression is a statistical method used to model the relationship between a dependent variable and one or more independent variables by minimizing the sum of the squared differences (residuals) between observed and predicted values.\n",
    "\n",
    "OLS regression provides estimates of the coefficients for each predictor, allowing us to understand how changes in each independent variable influence the dependent variable (healthcare charges). This type of regression is widely used due to its straightforward interpretation and computational efficiency, making it suitable for our mixed variable types (continuous and categorical)."
   ]
  },
  {
   "cell_type": "markdown",
   "id": "9cd577a2-a0a9-4cf4-9b87-68ec354b7105",
   "metadata": {},
   "source": [
    "#### Why is OLS Regression the Correct Model for this Data?"
   ]
  },
  {
   "cell_type": "markdown",
   "id": "234853a4-f28c-4549-b77e-c625cb85ea5f",
   "metadata": {},
   "source": [
    "OLS regression is appropriate for this analysis for several reasons:\n",
    "\n",
    "* **Continuous Dependent Variable**: The dependent variable (charges) in this dataset is continuous, making it suitable for linear regression techniques.\n",
    "\n",
    "* **Linearity Assumption**: OLS regression assumes a linear relationship between the independent variables (age, sex, BMI, number of children, and smoking status) and the dependent variable. Preliminary data exploration suggested reasonable linear relationships between the predictors and the target variable.\n",
    "\n",
    "* **Interpretability**: The coefficients in OLS regression can be directly interpreted, allowing us to identify how much we expect the healthcare charges to increase or decrease with each unit change in the predictor variables.\n",
    "\n",
    "* **Statistical Significance**: OLS provides tests to assess the significance of each predictor, allowing us to determine which factors are most relevant in predicting healthcare costs.\n",
    "\n",
    "* **Robustness**: Under certain conditions (normality, homoscedasticity, and independence of residuals), OLS regression is a reliable method for inference and prediction."
   ]
  },
  {
   "cell_type": "code",
   "execution_count": 1917,
   "id": "a127291d-1c02-41c4-b7fb-18d0d67c767e",
   "metadata": {
    "jupyter": {
     "source_hidden": true
    }
   },
   "outputs": [],
   "source": [
    "import statsmodels.api as sm\n",
    "from sklearn.model_selection import train_test_split\n",
    "from sklearn.linear_model import LinearRegression\n",
    "from sklearn.metrics import mean_squared_error, r2_score\n",
    "\n",
    "# Define the features and the target variable\n",
    "X = insurance_costs_copy[['age', 'sex', 'bmi', 'children', 'smoker']]\n",
    "y = insurance_costs_copy['charges']\n",
    "\n",
    "# Split the data into training and testing sets\n",
    "X_train, X_test, y_train, y_test = train_test_split(X, y, test_size=0.2, random_state=42)\n",
    "\n",
    "# Build the model using scikit-learn\n",
    "lm = LinearRegression()\n",
    "lm.fit(X_train, y_train)\n",
    "\n",
    "# Make predictions\n",
    "y_pred = lm.predict(X_test)\n",
    "\n",
    "# Evaluate the model\n",
    "mse = mean_squared_error(y_test, y_pred)\n",
    "r2 = r2_score(y_test, y_pred)\n",
    "\n",
    "# Using statsmodels to get a more detailed summary\n",
    "X = sm.add_constant(X)  # Adds a constant term to the predictor\n",
    "model = sm.OLS(y, X).fit()  # Fit the model"
   ]
  },
  {
   "cell_type": "markdown",
   "id": "decf08c5-fb56-4076-8083-50d6cb3831e5",
   "metadata": {},
   "source": [
    "The regression analysis yielded the following key statistics:\n",
    "\n",
    "* **R-squared**: The model explained 75% of the variability in healthcare charges, suggesting a strong fit and indicating that a significant portion of the data's variance is accounted for by the model.\n",
    "\n",
    "* **Adjusted R-squared**: The adjusted R-squared of 74.9% accounts for the number of predictors in the model, confirming that the model performs well even after accounting for the complexity of multiple variables.\n",
    "\n",
    "* **F-statistic**: The overall significance of the model was evidenced by an F-statistic of 798.0 with a p-value of 0.00, indicating that at least one predictor is statistically significant.\n",
    "\n",
    "Coefficients Analysis:\n",
    "\n",
    "* **Age**: Each additional year of age is associated with an increase of approximately \\$257.74 in healthcare charges (p < 0.000).\n",
    "* **BMI**: A unit increase in BMI is linked to an increase of \\$322.36, indicating a strong correlation with healthcare costs (p < 0.000).\n",
    "* **Children**: Each additional child adds about \\$474.41 to the charges (p = 0.001).\n",
    "* **Smoker**: Individuals classified as smokers have healthcare charges that are, on average, $23,820.00 higher than non-smokers (p < 0.000).\n",
    "* **Sex**: The variable for sex does not demonstrate a statistically significant effect on healthcare charges (p = 0.700), suggesting it may not be a relevant predictor."
   ]
  },
  {
   "cell_type": "markdown",
   "id": "7c97fdfb-1906-4d6a-9a42-4f8ef06e44bb",
   "metadata": {
    "jp-MarkdownHeadingCollapsed": true
   },
   "source": [
    "## Evaluation"
   ]
  },
  {
   "cell_type": "markdown",
   "id": "ab2ca71f-3b25-4661-8d86-90afbc860c4d",
   "metadata": {
    "jp-MarkdownHeadingCollapsed": true
   },
   "source": [
    "### OLS Model"
   ]
  },
  {
   "cell_type": "markdown",
   "id": "1ede92d5-5b68-4f46-9db6-142abe8c2559",
   "metadata": {},
   "source": [
    "#### Overview of Results"
   ]
  },
  {
   "cell_type": "markdown",
   "id": "904d1fb0-2eb3-47db-ba44-63c6f1cb59c8",
   "metadata": {},
   "source": [
    "The regression analysis yielded the following key statistics:\n",
    "\n",
    "* **R-squared**: The model explained 75% of the variability in healthcare charges, suggesting a strong fit and indicating that a significant portion of the data's variance is accounted for by the model.\n",
    "\n",
    "* **Adjusted R-squared**: The adjusted R-squared of 74.9% accounts for the number of predictors in the model, confirming that the model performs well even after accounting for the complexity of multiple variables.\n",
    "\n",
    "* **F-statistic**: The overall significance of the model was evidenced by an F-statistic of 798.0 with a p-value of 0.00, indicating that at least one predictor is statistically significant.\n",
    "\n",
    "Coefficients Analysis:\n",
    "* **Age**: Each additional year of age is associated with an increase of approximately \\$257.74 in healthcare charges (p < 0.000).\n",
    "* **BMI**: A unit increase in BMI is linked to an increase of \\$322.36, indicating a strong correlation with healthcare costs (p < 0.000).\n",
    "* **Children**: Each additional child adds about \\$474.41 to the charges (p = 0.001).\n",
    "* **Smoker**: Individuals classified as smokers have healthcare charges that are, on average, $23,820.00 higher than non-smokers (p < 0.000).\n",
    "* **Sex**: The variable for sex does not demonstrate a statistically significant effect on healthcare charges (p = 0.700), suggesting it may not be a relevant predictor."
   ]
  },
  {
   "cell_type": "code",
   "execution_count": 1923,
   "id": "d218b255-9af9-4878-95dd-e5765f7a474a",
   "metadata": {
    "jupyter": {
     "source_hidden": true
    }
   },
   "outputs": [
    {
     "name": "stdout",
     "output_type": "stream",
     "text": [
      "Mean Squared Error: 33979257.05080822\n",
      "R^2 Score: 0.7811302113434095\n"
     ]
    }
   ],
   "source": [
    "print(f'Mean Squared Error: {mse}')\n",
    "print(f'R^2 Score: {r2}')"
   ]
  },
  {
   "cell_type": "code",
   "execution_count": 1924,
   "id": "5e426eab-844c-44a4-b4c3-ca1742ecbf6f",
   "metadata": {
    "jupyter": {
     "source_hidden": true
    }
   },
   "outputs": [
    {
     "data": {
      "text/html": [
       "<table class=\"simpletable\">\n",
       "<caption>OLS Regression Results</caption>\n",
       "<tr>\n",
       "  <th>Dep. Variable:</th>         <td>charges</td>     <th>  R-squared:         </th> <td>   0.750</td> \n",
       "</tr>\n",
       "<tr>\n",
       "  <th>Model:</th>                   <td>OLS</td>       <th>  Adj. R-squared:    </th> <td>   0.749</td> \n",
       "</tr>\n",
       "<tr>\n",
       "  <th>Method:</th>             <td>Least Squares</td>  <th>  F-statistic:       </th> <td>   798.0</td> \n",
       "</tr>\n",
       "<tr>\n",
       "  <th>Date:</th>             <td>Tue, 03 Sep 2024</td> <th>  Prob (F-statistic):</th>  <td>  0.00</td>  \n",
       "</tr>\n",
       "<tr>\n",
       "  <th>Time:</th>                 <td>21:37:19</td>     <th>  Log-Likelihood:    </th> <td> -13551.</td> \n",
       "</tr>\n",
       "<tr>\n",
       "  <th>No. Observations:</th>      <td>  1338</td>      <th>  AIC:               </th> <td>2.711e+04</td>\n",
       "</tr>\n",
       "<tr>\n",
       "  <th>Df Residuals:</th>          <td>  1332</td>      <th>  BIC:               </th> <td>2.715e+04</td>\n",
       "</tr>\n",
       "<tr>\n",
       "  <th>Df Model:</th>              <td>     5</td>      <th>                     </th>     <td> </td>    \n",
       "</tr>\n",
       "<tr>\n",
       "  <th>Covariance Type:</th>      <td>nonrobust</td>    <th>                     </th>     <td> </td>    \n",
       "</tr>\n",
       "</table>\n",
       "<table class=\"simpletable\">\n",
       "<tr>\n",
       "      <td></td>        <th>coef</th>     <th>std err</th>      <th>t</th>      <th>P>|t|</th>  <th>[0.025</th>    <th>0.975]</th>  \n",
       "</tr>\n",
       "<tr>\n",
       "  <th>const</th>    <td>-1.205e+04</td> <td>  951.260</td> <td>  -12.670</td> <td> 0.000</td> <td>-1.39e+04</td> <td>-1.02e+04</td>\n",
       "</tr>\n",
       "<tr>\n",
       "  <th>age</th>      <td>  257.7350</td> <td>   11.904</td> <td>   21.651</td> <td> 0.000</td> <td>  234.383</td> <td>  281.087</td>\n",
       "</tr>\n",
       "<tr>\n",
       "  <th>sex</th>      <td> -128.6399</td> <td>  333.361</td> <td>   -0.386</td> <td> 0.700</td> <td> -782.609</td> <td>  525.329</td>\n",
       "</tr>\n",
       "<tr>\n",
       "  <th>bmi</th>      <td>  322.3642</td> <td>   27.419</td> <td>   11.757</td> <td> 0.000</td> <td>  268.576</td> <td>  376.153</td>\n",
       "</tr>\n",
       "<tr>\n",
       "  <th>children</th> <td>  474.4111</td> <td>  137.856</td> <td>    3.441</td> <td> 0.001</td> <td>  203.973</td> <td>  744.849</td>\n",
       "</tr>\n",
       "<tr>\n",
       "  <th>smoker</th>   <td> 2.382e+04</td> <td>  412.523</td> <td>   57.750</td> <td> 0.000</td> <td>  2.3e+04</td> <td> 2.46e+04</td>\n",
       "</tr>\n",
       "</table>\n",
       "<table class=\"simpletable\">\n",
       "<tr>\n",
       "  <th>Omnibus:</th>       <td>301.103</td> <th>  Durbin-Watson:     </th> <td>   2.087</td> \n",
       "</tr>\n",
       "<tr>\n",
       "  <th>Prob(Omnibus):</th> <td> 0.000</td>  <th>  Jarque-Bera (JB):  </th> <td> 720.380</td> \n",
       "</tr>\n",
       "<tr>\n",
       "  <th>Skew:</th>          <td> 1.214</td>  <th>  Prob(JB):          </th> <td>3.73e-157</td>\n",
       "</tr>\n",
       "<tr>\n",
       "  <th>Kurtosis:</th>      <td> 5.650</td>  <th>  Cond. No.          </th> <td>    295.</td> \n",
       "</tr>\n",
       "</table><br/><br/>Notes:<br/>[1] Standard Errors assume that the covariance matrix of the errors is correctly specified."
      ],
      "text/latex": [
       "\\begin{center}\n",
       "\\begin{tabular}{lclc}\n",
       "\\toprule\n",
       "\\textbf{Dep. Variable:}    &     charges      & \\textbf{  R-squared:         } &     0.750   \\\\\n",
       "\\textbf{Model:}            &       OLS        & \\textbf{  Adj. R-squared:    } &     0.749   \\\\\n",
       "\\textbf{Method:}           &  Least Squares   & \\textbf{  F-statistic:       } &     798.0   \\\\\n",
       "\\textbf{Date:}             & Tue, 03 Sep 2024 & \\textbf{  Prob (F-statistic):} &     0.00    \\\\\n",
       "\\textbf{Time:}             &     21:37:19     & \\textbf{  Log-Likelihood:    } &   -13551.   \\\\\n",
       "\\textbf{No. Observations:} &        1338      & \\textbf{  AIC:               } & 2.711e+04   \\\\\n",
       "\\textbf{Df Residuals:}     &        1332      & \\textbf{  BIC:               } & 2.715e+04   \\\\\n",
       "\\textbf{Df Model:}         &           5      & \\textbf{                     } &             \\\\\n",
       "\\textbf{Covariance Type:}  &    nonrobust     & \\textbf{                     } &             \\\\\n",
       "\\bottomrule\n",
       "\\end{tabular}\n",
       "\\begin{tabular}{lcccccc}\n",
       "                  & \\textbf{coef} & \\textbf{std err} & \\textbf{t} & \\textbf{P$> |$t$|$} & \\textbf{[0.025} & \\textbf{0.975]}  \\\\\n",
       "\\midrule\n",
       "\\textbf{const}    &   -1.205e+04  &      951.260     &   -12.670  &         0.000        &    -1.39e+04    &    -1.02e+04     \\\\\n",
       "\\textbf{age}      &     257.7350  &       11.904     &    21.651  &         0.000        &      234.383    &      281.087     \\\\\n",
       "\\textbf{sex}      &    -128.6399  &      333.361     &    -0.386  &         0.700        &     -782.609    &      525.329     \\\\\n",
       "\\textbf{bmi}      &     322.3642  &       27.419     &    11.757  &         0.000        &      268.576    &      376.153     \\\\\n",
       "\\textbf{children} &     474.4111  &      137.856     &     3.441  &         0.001        &      203.973    &      744.849     \\\\\n",
       "\\textbf{smoker}   &    2.382e+04  &      412.523     &    57.750  &         0.000        &      2.3e+04    &     2.46e+04     \\\\\n",
       "\\bottomrule\n",
       "\\end{tabular}\n",
       "\\begin{tabular}{lclc}\n",
       "\\textbf{Omnibus:}       & 301.103 & \\textbf{  Durbin-Watson:     } &     2.087  \\\\\n",
       "\\textbf{Prob(Omnibus):} &   0.000 & \\textbf{  Jarque-Bera (JB):  } &   720.380  \\\\\n",
       "\\textbf{Skew:}          &   1.214 & \\textbf{  Prob(JB):          } & 3.73e-157  \\\\\n",
       "\\textbf{Kurtosis:}      &   5.650 & \\textbf{  Cond. No.          } &      295.  \\\\\n",
       "\\bottomrule\n",
       "\\end{tabular}\n",
       "%\\caption{OLS Regression Results}\n",
       "\\end{center}\n",
       "\n",
       "Notes: \\newline\n",
       " [1] Standard Errors assume that the covariance matrix of the errors is correctly specified."
      ],
      "text/plain": [
       "<class 'statsmodels.iolib.summary.Summary'>\n",
       "\"\"\"\n",
       "                            OLS Regression Results                            \n",
       "==============================================================================\n",
       "Dep. Variable:                charges   R-squared:                       0.750\n",
       "Model:                            OLS   Adj. R-squared:                  0.749\n",
       "Method:                 Least Squares   F-statistic:                     798.0\n",
       "Date:                Tue, 03 Sep 2024   Prob (F-statistic):               0.00\n",
       "Time:                        21:37:19   Log-Likelihood:                -13551.\n",
       "No. Observations:                1338   AIC:                         2.711e+04\n",
       "Df Residuals:                    1332   BIC:                         2.715e+04\n",
       "Df Model:                           5                                         \n",
       "Covariance Type:            nonrobust                                         \n",
       "==============================================================================\n",
       "                 coef    std err          t      P>|t|      [0.025      0.975]\n",
       "------------------------------------------------------------------------------\n",
       "const      -1.205e+04    951.260    -12.670      0.000   -1.39e+04   -1.02e+04\n",
       "age          257.7350     11.904     21.651      0.000     234.383     281.087\n",
       "sex         -128.6399    333.361     -0.386      0.700    -782.609     525.329\n",
       "bmi          322.3642     27.419     11.757      0.000     268.576     376.153\n",
       "children     474.4111    137.856      3.441      0.001     203.973     744.849\n",
       "smoker      2.382e+04    412.523     57.750      0.000     2.3e+04    2.46e+04\n",
       "==============================================================================\n",
       "Omnibus:                      301.103   Durbin-Watson:                   2.087\n",
       "Prob(Omnibus):                  0.000   Jarque-Bera (JB):              720.380\n",
       "Skew:                           1.214   Prob(JB):                    3.73e-157\n",
       "Kurtosis:                       5.650   Cond. No.                         295.\n",
       "==============================================================================\n",
       "\n",
       "Notes:\n",
       "[1] Standard Errors assume that the covariance matrix of the errors is correctly specified.\n",
       "\"\"\""
      ]
     },
     "execution_count": 1924,
     "metadata": {},
     "output_type": "execute_result"
    }
   ],
   "source": [
    "model.summary()"
   ]
  },
  {
   "cell_type": "markdown",
   "id": "0ada8a0b-e185-49e7-8356-57bd6fa8ec1c",
   "metadata": {
    "jp-MarkdownHeadingCollapsed": true
   },
   "source": [
    "#### Summary"
   ]
  },
  {
   "cell_type": "markdown",
   "id": "9b0725ce-8922-40fa-ac61-42ef3d68575f",
   "metadata": {},
   "source": [
    "The OLS regression analysis provided valuable insights into the factors influencing healthcare charges. The results indicate strong predictors include age, BMI, number of children, and smoking status, which all significantly contribute to variations in healthcare costs. The model explains a substantial portion of the variance in charges, with a high R-squared value, affirming the model's explanatory power.\n",
    "\n",
    "However, the non-significant impact of sex on healthcare charges suggests that more granular factors may better explain the variations in costs related to sex, or that sex alone does not contribute as substantially as other variables in the context of this dataset.\n",
    "\n",
    "Future steps could involve exploring additional predictive models, incorporating interaction terms, or delving deeper into the dataset for other potential factors not captured in this initial model. Moreover, conducting residual analysis could help ensure that the assumptions of OLS regression are met, thus solidifying the validity of the findings."
   ]
  },
  {
   "cell_type": "markdown",
   "id": "130e4fa4-4fca-4fa1-be71-725eb522c512",
   "metadata": {},
   "source": [
    "#### Prediction Function"
   ]
  },
  {
   "cell_type": "code",
   "execution_count": 1928,
   "id": "4d77d63e-cffe-4d50-ab00-627b7ace5995",
   "metadata": {
    "jupyter": {
     "source_hidden": true
    }
   },
   "outputs": [],
   "source": [
    "def predict_healthcare_charge(model, age, sex, bmi, children, smoker):\n",
    "    \"\"\"\n",
    "    Predict healthcare charges for a given individual based on the regression model.\n",
    "\n",
    "    Parameters:\n",
    "    - model: the fitted statsmodels OLS regression model\n",
    "    - age (int): age of the individual\n",
    "    - sex (int): sex of the individual (0 for female, 1 for male)\n",
    "    - bmi (float): BMI of the individual\n",
    "    - children (int): number of children\n",
    "    - smoker (int): smoking status (1 for yes, 0 for no)\n",
    "    \n",
    "    Returns:\n",
    "    - None\n",
    "    \"\"\"\n",
    "    # Define the characteristics of the random individual\n",
    "    individual_data = {\n",
    "        'const': 0,       # Constant term for the intercept\n",
    "        'age': age,       # Age of the individual\n",
    "        'sex': sex,       # Female (0 for female, 1 for male)\n",
    "        'bmi': bmi,       # BMI of the individual\n",
    "        'children': children, # Number of children\n",
    "        'smoker': smoker   # Smoker (1 for yes, 0 for no)\n",
    "    }\n",
    "\n",
    "    # Create a DataFrame from the individual's data for prediction\n",
    "    individual_df = pd.DataFrame([individual_data])\n",
    "    \n",
    "    # Predict the charges using the fitted model\n",
    "    predicted_charge = model.predict(individual_df)\n",
    "    \n",
    "    # Print the predicted charge\n",
    "    print(f'Predicted healthcare charges for the individual: ${predicted_charge[0]:.2f}')"
   ]
  },
  {
   "cell_type": "code",
   "execution_count": 1929,
   "id": "68260cdd-bba8-4c41-b36b-3551d52c10c8",
   "metadata": {
    "jupyter": {
     "source_hidden": true
    }
   },
   "outputs": [
    {
     "name": "stdout",
     "output_type": "stream",
     "text": [
      "Predicted healthcare charges for the individual: $37714.32\n"
     ]
    }
   ],
   "source": [
    "predict_healthcare_charge(model, age=19, sex=0, bmi=27.9, children=0, smoker=1)"
   ]
  }
 ],
 "metadata": {
  "kernelspec": {
   "display_name": "Python 3 (ipykernel)",
   "language": "python",
   "name": "python3"
  },
  "language_info": {
   "codemirror_mode": {
    "name": "ipython",
    "version": 3
   },
   "file_extension": ".py",
   "mimetype": "text/x-python",
   "name": "python",
   "nbconvert_exporter": "python",
   "pygments_lexer": "ipython3",
   "version": "3.12.4"
  }
 },
 "nbformat": 4,
 "nbformat_minor": 5
}
